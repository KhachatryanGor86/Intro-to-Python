{
 "cells": [
  {
   "cell_type": "markdown",
   "metadata": {},
   "source": [
    "## Problem 1 "
   ]
  },
  {
   "cell_type": "code",
   "execution_count": 1,
   "metadata": {},
   "outputs": [
    {
     "name": "stdout",
     "output_type": "stream",
     "text": [
      "Please check module name. This one is wrong!\n"
     ]
    }
   ],
   "source": [
    "try:\n",
    "    import num\n",
    "except ModuleNotFoundError:\n",
    "    print(\"Please check module name. This one is wrong!\")"
   ]
  },
  {
   "cell_type": "markdown",
   "metadata": {},
   "source": [
    "## Problem 2"
   ]
  },
  {
   "cell_type": "code",
   "execution_count": 2,
   "metadata": {},
   "outputs": [
    {
     "name": "stdout",
     "output_type": "stream",
     "text": [
      "5.0\n"
     ]
    },
    {
     "ename": "AssertionError",
     "evalue": "Can't divide",
     "output_type": "error",
     "traceback": [
      "\u001b[1;31m---------------------------------------------------------------------------\u001b[0m",
      "\u001b[1;31mAssertionError\u001b[0m                            Traceback (most recent call last)",
      "\u001b[1;32m<ipython-input-2-a6e1c2b93f15>\u001b[0m in \u001b[0;36m<module>\u001b[1;34m\u001b[0m\n\u001b[0;32m      4\u001b[0m \u001b[1;33m\u001b[0m\u001b[0m\n\u001b[0;32m      5\u001b[0m \u001b[0mprint\u001b[0m\u001b[1;33m(\u001b[0m\u001b[0mdiv\u001b[0m\u001b[1;33m(\u001b[0m\u001b[1;36m10\u001b[0m\u001b[1;33m,\u001b[0m\u001b[1;36m2\u001b[0m\u001b[1;33m)\u001b[0m\u001b[1;33m)\u001b[0m\u001b[1;33m\u001b[0m\u001b[1;33m\u001b[0m\u001b[0m\n\u001b[1;32m----> 6\u001b[1;33m \u001b[0mprint\u001b[0m\u001b[1;33m(\u001b[0m\u001b[0mdiv\u001b[0m\u001b[1;33m(\u001b[0m\u001b[1;36m10\u001b[0m\u001b[1;33m,\u001b[0m\u001b[1;36m0\u001b[0m\u001b[1;33m)\u001b[0m\u001b[1;33m)\u001b[0m\u001b[1;33m\u001b[0m\u001b[1;33m\u001b[0m\u001b[0m\n\u001b[0m",
      "\u001b[1;32m<ipython-input-2-a6e1c2b93f15>\u001b[0m in \u001b[0;36mdiv\u001b[1;34m(x, y)\u001b[0m\n\u001b[0;32m      1\u001b[0m \u001b[1;32mdef\u001b[0m \u001b[0mdiv\u001b[0m\u001b[1;33m(\u001b[0m\u001b[0mx\u001b[0m\u001b[1;33m,\u001b[0m\u001b[0my\u001b[0m\u001b[1;33m)\u001b[0m\u001b[1;33m:\u001b[0m\u001b[1;33m\u001b[0m\u001b[1;33m\u001b[0m\u001b[0m\n\u001b[1;32m----> 2\u001b[1;33m     \u001b[1;32massert\u001b[0m \u001b[0my\u001b[0m \u001b[1;33m!=\u001b[0m \u001b[1;36m0\u001b[0m\u001b[1;33m,\u001b[0m \u001b[1;34m\"Can't divide\"\u001b[0m\u001b[1;33m\u001b[0m\u001b[1;33m\u001b[0m\u001b[0m\n\u001b[0m\u001b[0;32m      3\u001b[0m     \u001b[1;32mreturn\u001b[0m \u001b[0mx\u001b[0m \u001b[1;33m/\u001b[0m \u001b[0my\u001b[0m\u001b[1;33m\u001b[0m\u001b[1;33m\u001b[0m\u001b[0m\n\u001b[0;32m      4\u001b[0m \u001b[1;33m\u001b[0m\u001b[0m\n\u001b[0;32m      5\u001b[0m \u001b[0mprint\u001b[0m\u001b[1;33m(\u001b[0m\u001b[0mdiv\u001b[0m\u001b[1;33m(\u001b[0m\u001b[1;36m10\u001b[0m\u001b[1;33m,\u001b[0m\u001b[1;36m2\u001b[0m\u001b[1;33m)\u001b[0m\u001b[1;33m)\u001b[0m\u001b[1;33m\u001b[0m\u001b[1;33m\u001b[0m\u001b[0m\n",
      "\u001b[1;31mAssertionError\u001b[0m: Can't divide"
     ]
    }
   ],
   "source": [
    "def div(x,y):\n",
    "    assert y != 0, \"Can't divide\"\n",
    "    return x / y\n",
    "\n",
    "print(div(10,2))\n",
    "print(div(10,0))"
   ]
  },
  {
   "cell_type": "markdown",
   "metadata": {},
   "source": [
    "## Problem 3 "
   ]
  },
  {
   "cell_type": "code",
   "execution_count": 17,
   "metadata": {},
   "outputs": [
    {
     "name": "stdout",
     "output_type": "stream",
     "text": [
      "My favourite number is 10\n",
      "[Errno 2] No such file or directory: 'student.txt'\n",
      "['Lilit\\n', 'Ann\\n', 'Aram']\n",
      "KevLev20\n",
      "KLev123\n",
      "Welcome dear Ann\n",
      "time passed:  0.0\n"
     ]
    }
   ],
   "source": [
    "import time\n",
    "\n",
    "class Person:\n",
    "    def __init__(self, name, last_name, age, gender, student, password):\n",
    "        self.name = name\n",
    "        self.last_name = last_name\n",
    "        self.age = age\n",
    "        self.gender = gender\n",
    "        self.student = student\n",
    "        try:\n",
    "            if type(self.student) != bool:\n",
    "                raise TypeError\n",
    "        except TypeError:\n",
    "            print(\"Student attribute should be of 'bool' type!\")            \n",
    "        self.__password = password\n",
    "        \n",
    "    def decor(fn):\n",
    "        def wrapper(*args):\n",
    "            t1 = time.time()\n",
    "            fn(*args)\n",
    "            t2 = time.time()\n",
    "            print(\"time passed: \", t2 - t1)\n",
    "        return wrapper\n",
    "    \n",
    "    @decor\n",
    "    def Greeting(self, second_person):\n",
    "        print(\"Welcome dear \" + second_person.name)\n",
    "        \n",
    "    def Goodbye(self):\n",
    "        print(\"Bye everyone!\")\n",
    "        \n",
    "    def Favourite_num(self, num1):\n",
    "        try:\n",
    "            if type(num1) != int:\n",
    "                raise TypeError\n",
    "        except TypeError:\n",
    "            return \"num1 should be of 'int' type!\"\n",
    "        else:\n",
    "            return \"My favourite number is \" + str(num1)\n",
    "    \n",
    "    def Read_file(self, filename):\n",
    "        try:\n",
    "            with open(filename + '.txt') as f:\n",
    "                content = f.readlines()\n",
    "                print(content)\n",
    "        except FileNotFoundError as e:\n",
    "            print(e)\n",
    "            \n",
    "    def set_password(self, new_pass):\n",
    "        self.__password = new_pass\n",
    "        return self.__password\n",
    "    \n",
    "    def get_password(self):\n",
    "        return self.__password\n",
    "            \n",
    "boy = Person(\"Kevin\", \"Levrone\", 20, 'Male', True, 'KevLev20')\n",
    "girl = Person(\"Ann\", \"Green\", 15, 'Female',False, 'AnGr159')\n",
    "\n",
    "print(boy.Favourite_num(10))\n",
    "\n",
    "boy.Read_file(\"student\")\n",
    "boy.Read_file(\"students\")\n",
    "\n",
    "print(boy._Person__password)\n",
    "boy.set_password(\"KLev123\")\n",
    "print(boy.get_password())\n",
    "\n",
    "boy.Greeting(girl)"
   ]
  }
 ],
 "metadata": {
  "kernelspec": {
   "display_name": "Python 3",
   "language": "python",
   "name": "python3"
  },
  "language_info": {
   "codemirror_mode": {
    "name": "ipython",
    "version": 3
   },
   "file_extension": ".py",
   "mimetype": "text/x-python",
   "name": "python",
   "nbconvert_exporter": "python",
   "pygments_lexer": "ipython3",
   "version": "3.7.4"
  }
 },
 "nbformat": 4,
 "nbformat_minor": 2
}
