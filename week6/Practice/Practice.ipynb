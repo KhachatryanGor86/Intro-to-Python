{
 "cells": [
  {
   "cell_type": "markdown",
   "metadata": {},
   "source": [
    "# Classes"
   ]
  },
  {
   "cell_type": "markdown",
   "metadata": {},
   "source": [
    "Problem 1"
   ]
  },
  {
   "cell_type": "code",
   "execution_count": 3,
   "metadata": {},
   "outputs": [
    {
     "name": "stdout",
     "output_type": "stream",
     "text": [
      "A  red  circle with radius  5\n",
      "A  blue  circle with radius  3\n"
     ]
    }
   ],
   "source": [
    "class Circle:\n",
    "    def __init__(self, radius, color):\n",
    "        self.radius = radius\n",
    "        self.color = color\n",
    "        \n",
    "    def getDesc(self):\n",
    "        print(\"A \", self.color, \" circle with radius \", self.radius)\n",
    "        \n",
    "c1 = Circle(5, 'red')\n",
    "c2 = Circle(3, 'blue')\n",
    "\n",
    "c1.getDesc()\n",
    "Circle.getDesc(c2)"
   ]
  },
  {
   "cell_type": "markdown",
   "metadata": {},
   "source": [
    "Problem 2"
   ]
  },
  {
   "cell_type": "code",
   "execution_count": 8,
   "metadata": {},
   "outputs": [
    {
     "name": "stdout",
     "output_type": "stream",
     "text": [
      "Python\n",
      "PYTHON\n"
     ]
    }
   ],
   "source": [
    "class StringWork:\n",
    "    def __init__(self, my_str):\n",
    "        self.my_str = my_str\n",
    "        \n",
    "    def get_String(self):\n",
    "        return self.my_str\n",
    "    \n",
    "    def print_String(self):\n",
    "        print(self.my_str.upper())\n",
    "        \n",
    "txt = StringWork(\"Python\")\n",
    "print(txt.get_String())\n",
    "txt.print_String()"
   ]
  },
  {
   "cell_type": "markdown",
   "metadata": {},
   "source": [
    "Problem 3"
   ]
  },
  {
   "cell_type": "code",
   "execution_count": 15,
   "metadata": {},
   "outputs": [
    {
     "name": "stdout",
     "output_type": "stream",
     "text": [
      "Lilit Mkhitaryan\n",
      "High\n",
      "Aram Aramyan\n",
      "Low\n"
     ]
    }
   ],
   "source": [
    "class Employee:\n",
    "    def __init__(self, name, last_name, monthly_salary):\n",
    "        self.name = name\n",
    "        self.last_name = last_name\n",
    "        self.__monthly_salary = monthly_salary\n",
    "        \n",
    "    def getFullName(self):\n",
    "        return self.name + \" \" + self.last_name\n",
    "    \n",
    "    def annualSalary(self):\n",
    "        return \"High\" if self.__monthly_salary * 12 > 100 else \"Low\"\n",
    "        \n",
    "emp1 = Employee(\"Lilit\", \"Mkhitaryan\", 10)\n",
    "emp2 = Employee(\"Aram\", \"Aramyan\", 7)\n",
    "\n",
    "print(emp1.getFullName())\n",
    "print(emp1.annualSalary())\n",
    "\n",
    "print(emp2.getFullName())\n",
    "print(emp2.annualSalary())"
   ]
  },
  {
   "cell_type": "markdown",
   "metadata": {},
   "source": [
    "Problem 4"
   ]
  },
  {
   "cell_type": "code",
   "execution_count": 37,
   "metadata": {},
   "outputs": [
    {
     "name": "stdout",
     "output_type": "stream",
     "text": [
      "model : Chev_Camaro\n",
      "color : black\n",
      "maxSpeed : 240\n",
      "Chev_Camaro is better than Lada_Priora\n"
     ]
    }
   ],
   "source": [
    "class Car:\n",
    "    def __init__(self, model, color, maxSpeed):\n",
    "        self.model = model\n",
    "        self.color = color\n",
    "        self.maxSpeed = maxSpeed\n",
    "        \n",
    "    def compareCar(self, car2):\n",
    "        if self.maxSpeed > car2.maxSpeed:\n",
    "            return car1.model + \" is better than \" + car2.model\n",
    "        else:\n",
    "            return car2.model + \" is better than \" + car1.model\n",
    "        \n",
    "car1 = Car(\"Lada_Priora\", 'eggplant', 150)\n",
    "car2 = Car(\"Chev_Camaro\", 'black', 240)\n",
    "\n",
    "for key, value in car2.__dict__.items():\n",
    "    print(\"{0} : {1}\".format(key, value))\n",
    "\n",
    "print(car1.compareCar(car2))"
   ]
  },
  {
   "cell_type": "markdown",
   "metadata": {},
   "source": [
    "Problem 5"
   ]
  },
  {
   "cell_type": "code",
   "execution_count": 52,
   "metadata": {},
   "outputs": [
    {
     "name": "stdout",
     "output_type": "stream",
     "text": [
      "owner  :  Policeman\n",
      "price  :  100\n",
      "_Police_car__pass_code  :  admin\n",
      "Welcome to your car, Policeman\n",
      "20.0\n",
      "admin\n",
      "Welcome to your car, Intern\n"
     ]
    }
   ],
   "source": [
    "class Police_car:\n",
    "    tax_value = 0.2\n",
    "    def __init__(self, owner, price, pass_code):\n",
    "        self.owner = owner\n",
    "        self.price = price\n",
    "        self.__pass_code = pass_code\n",
    "        \n",
    "    def tax(self):\n",
    "        return self.price * self.tax_value\n",
    "    \n",
    "    def greeting(self):\n",
    "        if self.__pass_code == 'admin':\n",
    "            print(\"Welcome to your car, \" + self.owner)\n",
    "            \n",
    "    def set_code(self, new_code):\n",
    "        self.__pass_code = new_code\n",
    "        \n",
    "    def get_code(self):\n",
    "        return self.__pass_code\n",
    "    \n",
    "car3 = Police_car(\"Policeman\", 100, 'admin')\n",
    "car4 = Police_car(\"Intern\", 100, 'user')\n",
    "\n",
    "for key, value in car3.__dict__.items():\n",
    "    print(key , \" : \" , value)\n",
    "    \n",
    "car3.greeting()\n",
    "print(car3.tax())\n",
    "\n",
    "car4.greeting()\n",
    "car4.set_code('admin')\n",
    "print(car4.get_code())\n",
    "car4.greeting()"
   ]
  },
  {
   "cell_type": "markdown",
   "metadata": {},
   "source": [
    "# Assertions "
   ]
  },
  {
   "cell_type": "markdown",
   "metadata": {},
   "source": [
    "Problem 1"
   ]
  },
  {
   "cell_type": "code",
   "execution_count": 61,
   "metadata": {},
   "outputs": [
    {
     "name": "stdout",
     "output_type": "stream",
     "text": [
      "Wake up, man!\n"
     ]
    },
    {
     "ename": "AssertionError",
     "evalue": "I won’t wake you up today!",
     "output_type": "error",
     "traceback": [
      "\u001b[1;31m---------------------------------------------------------------------------\u001b[0m",
      "\u001b[1;31mAssertionError\u001b[0m                            Traceback (most recent call last)",
      "\u001b[1;32m<ipython-input-61-49facf31c0d4>\u001b[0m in \u001b[0;36m<module>\u001b[1;34m\u001b[0m\n\u001b[0;32m      4\u001b[0m \u001b[1;33m\u001b[0m\u001b[0m\n\u001b[0;32m      5\u001b[0m \u001b[0mprint\u001b[0m\u001b[1;33m(\u001b[0m\u001b[0mAlarm\u001b[0m\u001b[1;33m(\u001b[0m\u001b[1;34m\"Monday\"\u001b[0m\u001b[1;33m)\u001b[0m\u001b[1;33m)\u001b[0m\u001b[1;33m\u001b[0m\u001b[1;33m\u001b[0m\u001b[0m\n\u001b[1;32m----> 6\u001b[1;33m \u001b[0mprint\u001b[0m\u001b[1;33m(\u001b[0m\u001b[0mAlarm\u001b[0m\u001b[1;33m(\u001b[0m\u001b[1;34m\"Sunday\"\u001b[0m\u001b[1;33m)\u001b[0m\u001b[1;33m)\u001b[0m\u001b[1;33m\u001b[0m\u001b[1;33m\u001b[0m\u001b[0m\n\u001b[0m",
      "\u001b[1;32m<ipython-input-61-49facf31c0d4>\u001b[0m in \u001b[0;36mAlarm\u001b[1;34m(day)\u001b[0m\n\u001b[0;32m      1\u001b[0m \u001b[1;32mdef\u001b[0m \u001b[0mAlarm\u001b[0m\u001b[1;33m(\u001b[0m\u001b[0mday\u001b[0m\u001b[1;33m)\u001b[0m\u001b[1;33m:\u001b[0m\u001b[1;33m\u001b[0m\u001b[1;33m\u001b[0m\u001b[0m\n\u001b[1;32m----> 2\u001b[1;33m     \u001b[1;32massert\u001b[0m \u001b[0mday\u001b[0m \u001b[1;33m!=\u001b[0m \u001b[1;34m'Sunday'\u001b[0m\u001b[1;33m,\u001b[0m \u001b[1;34m'I won’t wake you up today!'\u001b[0m\u001b[1;33m\u001b[0m\u001b[1;33m\u001b[0m\u001b[0m\n\u001b[0m\u001b[0;32m      3\u001b[0m     \u001b[1;32mreturn\u001b[0m \u001b[1;34m\"Wake up, man!\"\u001b[0m\u001b[1;33m\u001b[0m\u001b[1;33m\u001b[0m\u001b[0m\n\u001b[0;32m      4\u001b[0m \u001b[1;33m\u001b[0m\u001b[0m\n\u001b[0;32m      5\u001b[0m \u001b[0mprint\u001b[0m\u001b[1;33m(\u001b[0m\u001b[0mAlarm\u001b[0m\u001b[1;33m(\u001b[0m\u001b[1;34m\"Monday\"\u001b[0m\u001b[1;33m)\u001b[0m\u001b[1;33m)\u001b[0m\u001b[1;33m\u001b[0m\u001b[1;33m\u001b[0m\u001b[0m\n",
      "\u001b[1;31mAssertionError\u001b[0m: I won’t wake you up today!"
     ]
    }
   ],
   "source": [
    "def Alarm(day):\n",
    "    assert day != 'Sunday', 'I won’t wake you up today!'\n",
    "    return \"Wake up, man!\"\n",
    "\n",
    "print(Alarm(\"Monday\"))\n",
    "print(Alarm(\"Sunday\"))"
   ]
  },
  {
   "cell_type": "markdown",
   "metadata": {},
   "source": [
    "Problem 2"
   ]
  },
  {
   "cell_type": "code",
   "execution_count": 11,
   "metadata": {},
   "outputs": [
    {
     "name": "stdout",
     "output_type": "stream",
     "text": [
      "12\n"
     ]
    },
    {
     "ename": "AssertionError",
     "evalue": "Arguments of type int required",
     "output_type": "error",
     "traceback": [
      "\u001b[1;31m---------------------------------------------------------------------------\u001b[0m",
      "\u001b[1;31mAssertionError\u001b[0m                            Traceback (most recent call last)",
      "\u001b[1;32m<ipython-input-11-cd46187cd7ac>\u001b[0m in \u001b[0;36m<module>\u001b[1;34m\u001b[0m\n\u001b[0;32m      4\u001b[0m \u001b[1;33m\u001b[0m\u001b[0m\n\u001b[0;32m      5\u001b[0m \u001b[0mprint\u001b[0m\u001b[1;33m(\u001b[0m\u001b[0msum\u001b[0m\u001b[1;33m(\u001b[0m\u001b[1;36m5\u001b[0m\u001b[1;33m,\u001b[0m\u001b[1;36m7\u001b[0m\u001b[1;33m)\u001b[0m\u001b[1;33m)\u001b[0m\u001b[1;33m\u001b[0m\u001b[1;33m\u001b[0m\u001b[0m\n\u001b[1;32m----> 6\u001b[1;33m \u001b[0mprint\u001b[0m\u001b[1;33m(\u001b[0m\u001b[0msum\u001b[0m\u001b[1;33m(\u001b[0m\u001b[1;34m'5'\u001b[0m\u001b[1;33m,\u001b[0m\u001b[1;36m10\u001b[0m\u001b[1;33m)\u001b[0m\u001b[1;33m)\u001b[0m\u001b[1;33m\u001b[0m\u001b[1;33m\u001b[0m\u001b[0m\n\u001b[0m",
      "\u001b[1;32m<ipython-input-11-cd46187cd7ac>\u001b[0m in \u001b[0;36msum\u001b[1;34m(x, y)\u001b[0m\n\u001b[0;32m      1\u001b[0m \u001b[1;32mdef\u001b[0m \u001b[0msum\u001b[0m\u001b[1;33m(\u001b[0m\u001b[0mx\u001b[0m\u001b[1;33m,\u001b[0m\u001b[0my\u001b[0m\u001b[1;33m)\u001b[0m\u001b[1;33m:\u001b[0m\u001b[1;33m\u001b[0m\u001b[1;33m\u001b[0m\u001b[0m\n\u001b[1;32m----> 2\u001b[1;33m     \u001b[1;32massert\u001b[0m \u001b[0misinstance\u001b[0m\u001b[1;33m(\u001b[0m\u001b[0mx\u001b[0m\u001b[1;33m,\u001b[0m\u001b[0mint\u001b[0m\u001b[1;33m)\u001b[0m \u001b[1;32mand\u001b[0m \u001b[0misinstance\u001b[0m\u001b[1;33m(\u001b[0m\u001b[0my\u001b[0m\u001b[1;33m,\u001b[0m\u001b[0mint\u001b[0m\u001b[1;33m)\u001b[0m\u001b[1;33m,\u001b[0m \u001b[1;34m\"Arguments of type int required\"\u001b[0m\u001b[1;33m\u001b[0m\u001b[1;33m\u001b[0m\u001b[0m\n\u001b[0m\u001b[0;32m      3\u001b[0m     \u001b[1;32mreturn\u001b[0m \u001b[0mx\u001b[0m \u001b[1;33m+\u001b[0m \u001b[0my\u001b[0m\u001b[1;33m\u001b[0m\u001b[1;33m\u001b[0m\u001b[0m\n\u001b[0;32m      4\u001b[0m \u001b[1;33m\u001b[0m\u001b[0m\n\u001b[0;32m      5\u001b[0m \u001b[0mprint\u001b[0m\u001b[1;33m(\u001b[0m\u001b[0msum\u001b[0m\u001b[1;33m(\u001b[0m\u001b[1;36m5\u001b[0m\u001b[1;33m,\u001b[0m\u001b[1;36m7\u001b[0m\u001b[1;33m)\u001b[0m\u001b[1;33m)\u001b[0m\u001b[1;33m\u001b[0m\u001b[1;33m\u001b[0m\u001b[0m\n",
      "\u001b[1;31mAssertionError\u001b[0m: Arguments of type int required"
     ]
    }
   ],
   "source": [
    "def sum(x,y):\n",
    "    assert isinstance(x,int) and isinstance(y,int), \"Arguments of type int required\"\n",
    "    return x + y\n",
    "\n",
    "print(sum(5,7))\n",
    "print(sum('5',10))"
   ]
  },
  {
   "cell_type": "markdown",
   "metadata": {},
   "source": [
    "# Exceptions "
   ]
  },
  {
   "cell_type": "markdown",
   "metadata": {},
   "source": [
    "Problem 1"
   ]
  },
  {
   "cell_type": "code",
   "execution_count": 14,
   "metadata": {},
   "outputs": [
    {
     "name": "stdout",
     "output_type": "stream",
     "text": [
      "5.0\n",
      "Division Error!\n"
     ]
    }
   ],
   "source": [
    "def div(x,y):\n",
    "    try:\n",
    "        y != 0\n",
    "        return x / y\n",
    "    except Exception:\n",
    "        return \"Division Error!\"\n",
    "    \n",
    "print(div(15,3))\n",
    "print(div(15,0))"
   ]
  },
  {
   "cell_type": "markdown",
   "metadata": {},
   "source": [
    "Problem 2"
   ]
  },
  {
   "cell_type": "code",
   "execution_count": 17,
   "metadata": {},
   "outputs": [
    {
     "name": "stdout",
     "output_type": "stream",
     "text": [
      "5.0\n",
      "Division Error!\n"
     ]
    }
   ],
   "source": [
    "def div(x,y):\n",
    "    try:\n",
    "        y != 0\n",
    "        return x / y\n",
    "    except ZeroDivisionError:\n",
    "        return \"Division Error!\"\n",
    "    \n",
    "print(div(15,3))\n",
    "print(div(15,0))"
   ]
  },
  {
   "cell_type": "markdown",
   "metadata": {},
   "source": [
    "Problem 3"
   ]
  },
  {
   "cell_type": "code",
   "execution_count": 31,
   "metadata": {},
   "outputs": [
    {
     "name": "stdout",
     "output_type": "stream",
     "text": [
      "The entry is a\n",
      "Oops! unsupported operand type(s) for /: 'int' and 'str'\n",
      "The entry is 0\n",
      "Oops! division by zero\n",
      "The entry is 2\n",
      "The reciprocal of 2 is 0.5\n"
     ]
    }
   ],
   "source": [
    "ls = ['a',0,2]\n",
    "\n",
    "for val in ls:\n",
    "    try:\n",
    "        1/val\n",
    "    except Exception as e:\n",
    "        print(\"The entry is %s\" %val)\n",
    "        print(\"Oops! %s\" %e)\n",
    "    else:\n",
    "        print(\"The entry is %s\" %val)\n",
    "        print(\"The reciprocal of %s is %s\" %(val, 1/val))"
   ]
  },
  {
   "cell_type": "markdown",
   "metadata": {},
   "source": [
    "Problem 4"
   ]
  },
  {
   "cell_type": "code",
   "execution_count": 39,
   "metadata": {},
   "outputs": [
    {
     "name": "stdout",
     "output_type": "stream",
     "text": [
      "input name: Rambo\n",
      "Rambo is an invalid username\n"
     ]
    }
   ],
   "source": [
    "username = input(\"input name: \")\n",
    "\n",
    "try:\n",
    "    if username == 'Rambo':\n",
    "        raise Exception\n",
    "except Exception:\n",
    "    print(\"Rambo is an invalid username\")\n",
    "else:\n",
    "    print(\"Welcome, \" + username)"
   ]
  }
 ],
 "metadata": {
  "kernelspec": {
   "display_name": "Python 3",
   "language": "python",
   "name": "python3"
  },
  "language_info": {
   "codemirror_mode": {
    "name": "ipython",
    "version": 3
   },
   "file_extension": ".py",
   "mimetype": "text/x-python",
   "name": "python",
   "nbconvert_exporter": "python",
   "pygments_lexer": "ipython3",
   "version": "3.7.4"
  }
 },
 "nbformat": 4,
 "nbformat_minor": 2
}
