{
 "cells": [
  {
   "cell_type": "markdown",
   "metadata": {},
   "source": [
    "## HOMEWORK 1"
   ]
  },
  {
   "cell_type": "markdown",
   "metadata": {},
   "source": [
    "# Problem 1"
   ]
  },
  {
   "cell_type": "code",
   "execution_count": null,
   "metadata": {},
   "outputs": [],
   "source": [
    "project = \"cake\"\n",
    "difficulty = 5\n",
    "ingredients = [\"flour\",\"butter\", \"sugar\", \"eggs\", \"cocoa powder\", \"baking powder\"]\n",
    "\n",
    "print(\"apples\" in ingredients)\n",
    "print(\"butter\" in ingredients)\n",
    "print(\"eggs\" in ingredients or \"margarine\" in ingredients)\n",
    "print(\"eggs\" in ingredients and \"margarine\" in ingredients)\n",
    "\n",
    "flour, butter, sugar, eggs, cocoa_powder, baking_powder = 175, 175, \"100g\", 2, \"1ts\", 0.5\n",
    "\n",
    "print(\"flour - \", flour, \"g\")\n",
    "print(\"butter - \", butter, \"g\")\n",
    "print(\"sugar - \", sugar)\n",
    "print(\"eggs - \", eggs, \"g\")\n",
    "print(\"cocoa_powder - \", cocoa_powder)\n",
    "print(\"baking_powder - \", baking_powder, \"g\")"
   ]
  },
  {
   "cell_type": "markdown",
   "metadata": {},
   "source": [
    "# Problem 3"
   ]
  },
  {
   "cell_type": "code",
   "execution_count": null,
   "metadata": {},
   "outputs": [],
   "source": [
    "a = 15\n",
    "b = 8\n",
    "c = 2\n",
    "\n",
    "Expr1 = 5 * a**2 -a * b + (a % 2) - a / 5\n",
    "Expr2 = b**3 + 3*a*b - 10*c\n",
    "\n",
    "print(Expr1)\n",
    "print(Expr2)"
   ]
  },
  {
   "cell_type": "markdown",
   "metadata": {},
   "source": [
    "# Problem 4"
   ]
  },
  {
   "cell_type": "code",
   "execution_count": null,
   "metadata": {},
   "outputs": [],
   "source": [
    "#I added additional step in case if inputed value is not integer\n",
    "\n",
    "while True:\n",
    "    try:\n",
    "        num = int(input(\"Please input a number : \"))\n",
    "        break\n",
    "    except ValueError:\n",
    "        print(\"Please input number!\")\n",
    "        \n",
    "if int(num) % 2 == 0:\n",
    "    print(\"The inputed number is even\")\n",
    "else:\n",
    "    print(\"The inputed number is odd\")"
   ]
  }
 ],
 "metadata": {
  "kernelspec": {
   "display_name": "Python 3",
   "language": "python",
   "name": "python3"
  },
  "language_info": {
   "codemirror_mode": {
    "name": "ipython",
    "version": 3
   },
   "file_extension": ".py",
   "mimetype": "text/x-python",
   "name": "python",
   "nbconvert_exporter": "python",
   "pygments_lexer": "ipython3",
   "version": "3.7.4"
  }
 },
 "nbformat": 4,
 "nbformat_minor": 2
}
