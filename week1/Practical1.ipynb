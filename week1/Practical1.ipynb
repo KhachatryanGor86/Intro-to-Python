{
 "cells": [
  {
   "cell_type": "markdown",
   "metadata": {},
   "source": [
    "# Problem 2"
   ]
  },
  {
   "cell_type": "code",
   "execution_count": null,
   "metadata": {},
   "outputs": [],
   "source": [
    "variables = [\"course\", \"student\", \"nickname\", \"grade\", \"python_expert\"]\n",
    "values = [\"Intro to Python\", \"Gor Khachatryan\", \"GorPower\", \"100\", False]\n",
    "\n",
    "for i in range(len(variables)):\n",
    "    print(variables[i] , \":\" , values[i])"
   ]
  },
  {
   "cell_type": "markdown",
   "metadata": {},
   "source": [
    "# Problem 4"
   ]
  },
  {
   "cell_type": "code",
   "execution_count": null,
   "metadata": {},
   "outputs": [],
   "source": [
    "import math\n",
    "AB = int(input(\"Input value for AB side --> \"))\n",
    "AC = int(input(\"Input value for AC side --> \"))\n",
    "\n",
    "BC = math.sqrt(AB**2 + AC**2)\n",
    "print(\"The hypotenuse of the triangle ABC = \", BC)"
   ]
  }
 ],
 "metadata": {
  "kernelspec": {
   "display_name": "Python 3",
   "language": "python",
   "name": "python3"
  },
  "language_info": {
   "codemirror_mode": {
    "name": "ipython",
    "version": 3
   },
   "file_extension": ".py",
   "mimetype": "text/x-python",
   "name": "python",
   "nbconvert_exporter": "python",
   "pygments_lexer": "ipython3",
   "version": "3.7.4"
  }
 },
 "nbformat": 4,
 "nbformat_minor": 2
}
