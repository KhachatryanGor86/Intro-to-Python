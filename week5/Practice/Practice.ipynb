{
 "cells": [
  {
   "cell_type": "markdown",
   "metadata": {},
   "source": [
    "# Practice"
   ]
  },
  {
   "cell_type": "markdown",
   "metadata": {},
   "source": [
    "Problem 1 "
   ]
  },
  {
   "cell_type": "code",
   "execution_count": 2,
   "metadata": {},
   "outputs": [
    {
     "name": "stdout",
     "output_type": "stream",
     "text": [
      "20.0\n"
     ]
    }
   ],
   "source": [
    "def average_of_three(arg1, arg2, arg3):\n",
    "    \"\"\"This function returns the average of three inputed arguments.\"\"\"\n",
    "    return (arg1 + arg2 + arg3)/3\n",
    "\n",
    "print(average_of_three(10,20,30))"
   ]
  },
  {
   "cell_type": "markdown",
   "metadata": {},
   "source": [
    "Problem 2"
   ]
  },
  {
   "cell_type": "code",
   "execution_count": 3,
   "metadata": {},
   "outputs": [
    {
     "name": "stdout",
     "output_type": "stream",
     "text": [
      "11\n"
     ]
    }
   ],
   "source": [
    "def count_evens(ls):\n",
    "    \"\"\"This function counts even numbers within the given list.\"\"\"\n",
    "    count = 0\n",
    "    for num in ls:\n",
    "        if num % 2 == 0:\n",
    "            count += 1\n",
    "    return count\n",
    "\n",
    "ls = list(range(21))\n",
    "print(count_evens(ls))"
   ]
  },
  {
   "cell_type": "markdown",
   "metadata": {},
   "source": [
    "Problem 3"
   ]
  },
  {
   "cell_type": "code",
   "execution_count": 41,
   "metadata": {},
   "outputs": [
    {
     "name": "stdout",
     "output_type": "stream",
     "text": [
      "False\n",
      "True\n",
      "False\n"
     ]
    }
   ],
   "source": [
    "def password_check(password):\n",
    "    \"\"\"This function checks consistence of password to specified rules.\"\"\"\n",
    "    if len(password) < 10:\n",
    "        return False\n",
    "    \n",
    "    numbers = '0123456789'\n",
    "    \n",
    "    i = 0\n",
    "    for char in password:\n",
    "        if char in numbers:\n",
    "            i += 1\n",
    "    \n",
    "    if i < 2:\n",
    "        return False\n",
    "    \n",
    "    return True\n",
    "\n",
    "password = \"Python1pypy\"\n",
    "print(password_check(password))\n",
    "\n",
    "password = \"Python12pypy\"\n",
    "print(password_check(password))\n",
    "\n",
    "password = \"Python12\"\n",
    "print(password_check(password))"
   ]
  },
  {
   "cell_type": "markdown",
   "metadata": {},
   "source": [
    "Problem 4"
   ]
  },
  {
   "cell_type": "code",
   "execution_count": 68,
   "metadata": {},
   "outputs": [
    {
     "name": "stdout",
     "output_type": "stream",
     "text": [
      "Gor, Welcome to our company!\n",
      "Gor, Welcome to Python world!\n"
     ]
    }
   ],
   "source": [
    "def print_greeting(name, greeting = 'Welcome to our company!'):\n",
    "    print(name + \", \" + greeting)\n",
    "    \n",
    "print_greeting(\"Gor\")\n",
    "print_greeting(\"Gor\", \"Welcome to Python world!\")"
   ]
  },
  {
   "cell_type": "markdown",
   "metadata": {},
   "source": [
    "Problem 5"
   ]
  },
  {
   "cell_type": "code",
   "execution_count": 67,
   "metadata": {},
   "outputs": [
    {
     "name": "stdout",
     "output_type": "stream",
     "text": [
      "Gor, your average grade is: 6.0\n",
      "No grades available for Gor\n"
     ]
    }
   ],
   "source": [
    "def average_optionals(name, *args):\n",
    "    summ = 0\n",
    "    if len(args) >= 1:\n",
    "        for val in args:\n",
    "            summ += val\n",
    "        print(name + \", \" + \"your average grade is: \" + str(summ / len(args)))\n",
    "    else:\n",
    "        print(\"No grades available for \" + name)\n",
    "    \n",
    "name = \"Gor\"\n",
    "average_optionals(name,5,10,3)\n",
    "average_optionals(name)"
   ]
  },
  {
   "cell_type": "markdown",
   "metadata": {},
   "source": [
    "Problem 6"
   ]
  },
  {
   "cell_type": "code",
   "execution_count": 66,
   "metadata": {},
   "outputs": [
    {
     "name": "stdout",
     "output_type": "stream",
     "text": [
      "key:  name value:  Gor\n",
      "key:  age value:  33\n",
      "access denied to the user Gor\n"
     ]
    }
   ],
   "source": [
    "def admin_access(user, **kwargs):\n",
    "    if user == 'admin':\n",
    "        for key, value in kwargs.items():\n",
    "            print(\"key: \", key, \"value: \", value)\n",
    "    else:\n",
    "        print(\"access denied to the user \" + user)\n",
    "    \n",
    "user = 'admin'\n",
    "admin_access(user, name = \"Gor\", age = 33)\n",
    "user = 'Gor'\n",
    "admin_access(user, name = \"Gor\", age = 33)"
   ]
  },
  {
   "cell_type": "markdown",
   "metadata": {},
   "source": [
    "Problem 8"
   ]
  },
  {
   "cell_type": "code",
   "execution_count": 71,
   "metadata": {},
   "outputs": [
    {
     "name": "stdout",
     "output_type": "stream",
     "text": [
      "['Anna', 'Edgar']\n",
      "['Anna', 'Edgar', 'Hayk']\n"
     ]
    }
   ],
   "source": [
    "list1 = ['Anna', 'Edgar']\n",
    "list2 = ['Anna', 'Hayk']\n",
    "\n",
    "def decor(func):\n",
    "    def wrapper(*args):\n",
    "        print(list1)\n",
    "        func(*args)\n",
    "        print(list1)\n",
    "    return wrapper\n",
    "\n",
    "@decor\n",
    "def add_values(list2):\n",
    "    for item in list2:\n",
    "        if item not in list1:\n",
    "            list1.append(item)\n",
    "            \n",
    "add_values(list2)"
   ]
  },
  {
   "cell_type": "markdown",
   "metadata": {},
   "source": [
    "Problem 9"
   ]
  },
  {
   "cell_type": "code",
   "execution_count": 78,
   "metadata": {},
   "outputs": [
    {
     "data": {
      "text/plain": [
       "'hi everyone!!! Welcome to the party.'"
      ]
     },
     "execution_count": 78,
     "metadata": {},
     "output_type": "execute_result"
    }
   ],
   "source": [
    "def lowercase(func):\n",
    "    def wrapper(*args):\n",
    "        return func().lower()\n",
    "    return wrapper\n",
    "\n",
    "def add_str(func):\n",
    "    def wrapper(*args):\n",
    "        return func() + \"!!! Welcome to the party.\"\n",
    "    return wrapper\n",
    "\n",
    "@add_str\n",
    "@lowercase\n",
    "def pr_everyone():\n",
    "    return \"HI EVERYONE\"\n",
    "\n",
    "pr_everyone()"
   ]
  },
  {
   "cell_type": "markdown",
   "metadata": {},
   "source": [
    "Problem 10"
   ]
  },
  {
   "cell_type": "code",
   "execution_count": 25,
   "metadata": {},
   "outputs": [
    {
     "name": "stdout",
     "output_type": "stream",
     "text": [
      "<generator object list_func at 0x000001E81998C548>\n"
     ]
    }
   ],
   "source": [
    "list1 = [0,1,2,3,4,5,6]\n",
    "\n",
    "def list_func(list1):\n",
    "    for item in list1:\n",
    "        yield item\n",
    "        \n",
    "num = list_func(list1)\n",
    "print(num)"
   ]
  },
  {
   "cell_type": "code",
   "execution_count": 28,
   "metadata": {},
   "outputs": [
    {
     "data": {
      "text/plain": [
       "2"
      ]
     },
     "execution_count": 28,
     "metadata": {},
     "output_type": "execute_result"
    }
   ],
   "source": [
    "next(num)"
   ]
  },
  {
   "cell_type": "markdown",
   "metadata": {},
   "source": [
    "Problem 11"
   ]
  },
  {
   "cell_type": "code",
   "execution_count": 43,
   "metadata": {},
   "outputs": [
    {
     "name": "stdout",
     "output_type": "stream",
     "text": [
      "[0, 1, 2, 3, 4, 5, 6, 7, 8, 9, 10]\n"
     ]
    }
   ],
   "source": [
    "def iter_num(n):\n",
    "    for num in range(n + 1):\n",
    "        yield num\n",
    "        \n",
    "gen = iter_num(10)\n",
    "print(list(gen))"
   ]
  },
  {
   "cell_type": "markdown",
   "metadata": {},
   "source": [
    "Problem 12"
   ]
  },
  {
   "cell_type": "code",
   "execution_count": 57,
   "metadata": {},
   "outputs": [],
   "source": [
    "def power(max):\n",
    "    for i in range(max + 1):\n",
    "        yield 2**i\n",
    "        \n",
    "gen = power(10)"
   ]
  },
  {
   "cell_type": "code",
   "execution_count": 60,
   "metadata": {},
   "outputs": [
    {
     "data": {
      "text/plain": [
       "4"
      ]
     },
     "execution_count": 60,
     "metadata": {},
     "output_type": "execute_result"
    }
   ],
   "source": [
    "next(gen)"
   ]
  }
 ],
 "metadata": {
  "kernelspec": {
   "display_name": "Python 3",
   "language": "python",
   "name": "python3"
  },
  "language_info": {
   "codemirror_mode": {
    "name": "ipython",
    "version": 3
   },
   "file_extension": ".py",
   "mimetype": "text/x-python",
   "name": "python",
   "nbconvert_exporter": "python",
   "pygments_lexer": "ipython3",
   "version": "3.7.4"
  }
 },
 "nbformat": 4,
 "nbformat_minor": 2
}
