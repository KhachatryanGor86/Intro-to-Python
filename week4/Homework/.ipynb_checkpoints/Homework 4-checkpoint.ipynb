{
 "cells": [
  {
   "cell_type": "markdown",
   "metadata": {},
   "source": [
    "## Conditionals"
   ]
  },
  {
   "cell_type": "markdown",
   "metadata": {},
   "source": [
    "Problem 1"
   ]
  },
  {
   "cell_type": "code",
   "execution_count": 2,
   "metadata": {},
   "outputs": [
    {
     "name": "stdout",
     "output_type": "stream",
     "text": [
      "How many pairs do you want to buy? 7\n",
      "You don’t get a discount\n"
     ]
    }
   ],
   "source": [
    "n_shoes = int(input(\"How many pairs do you want to buy? \"))\n",
    "\n",
    "if n_shoes * 100 > 1000:\n",
    "    print(\"You get a discount\")\n",
    "else:\n",
    "    print(\"You don’t get a discount\")"
   ]
  },
  {
   "cell_type": "markdown",
   "metadata": {},
   "source": [
    "Problem 2"
   ]
  },
  {
   "cell_type": "code",
   "execution_count": 5,
   "metadata": {},
   "outputs": [
    {
     "name": "stdout",
     "output_type": "stream",
     "text": [
      "Good job\n"
     ]
    }
   ],
   "source": [
    "d = {'name': 'Armen', 'age': 15, 'grades': [10, 8, 8, 4, 6, 7] }\n",
    "\n",
    "average = sum(d['grades'])/len(d['grades'])\n",
    "\n",
    "if average > 7:\n",
    "    print(\"Good job\")\n",
    "else:\n",
    "    print(\"You need to work more.\")"
   ]
  },
  {
   "cell_type": "markdown",
   "metadata": {},
   "source": [
    "## Loops"
   ]
  },
  {
   "cell_type": "markdown",
   "metadata": {},
   "source": [
    "Problem 3"
   ]
  },
  {
   "cell_type": "code",
   "execution_count": 6,
   "metadata": {},
   "outputs": [
    {
     "name": "stdout",
     "output_type": "stream",
     "text": [
      "1\n",
      "3\n",
      "5\n",
      "7\n",
      "9\n"
     ]
    }
   ],
   "source": [
    "for i in range(11):\n",
    "    if i % 2 == 0:\n",
    "        continue\n",
    "    print(i)"
   ]
  },
  {
   "cell_type": "markdown",
   "metadata": {},
   "source": [
    "Problem 4"
   ]
  },
  {
   "cell_type": "code",
   "execution_count": 7,
   "metadata": {},
   "outputs": [
    {
     "name": "stdout",
     "output_type": "stream",
     "text": [
      "11\n"
     ]
    }
   ],
   "source": [
    "list1 = [1, 3, 5, 7, 9, 11, 13, 15]\n",
    "list2 = [4, 6, 14, 11, 8, 16]\n",
    "bool = False\n",
    "\n",
    "for l1 in list1:\n",
    "    for l2 in list2:\n",
    "        if l1 == l2:\n",
    "            print(l1)\n",
    "            bool = True\n",
    "            break\n",
    "    \n",
    "    if bool == True:\n",
    "        break"
   ]
  },
  {
   "cell_type": "code",
   "execution_count": 3,
   "metadata": {},
   "outputs": [
    {
     "name": "stdout",
     "output_type": "stream",
     "text": [
      "11\n"
     ]
    }
   ],
   "source": [
    "list1 = [1, 3, 5, 7, 9, 11, 13, 15]\n",
    "list2 = [4, 6, 14, 11, 8, 16]\n",
    "\n",
    "for l1 in list1:\n",
    "    if l1 in list2:\n",
    "        print(l1)\n",
    "        break"
   ]
  },
  {
   "cell_type": "markdown",
   "metadata": {},
   "source": [
    "Problem 5"
   ]
  },
  {
   "cell_type": "code",
   "execution_count": 1,
   "metadata": {},
   "outputs": [
    {
     "name": "stdout",
     "output_type": "stream",
     "text": [
      "Please input any food: aa\n",
      "Please choose another desert\n",
      "Please input any food: der\n",
      "Please choose another desert\n",
      "Please input any food: ice cream\n",
      "Your desert will arrive in 10 minutes\n"
     ]
    }
   ],
   "source": [
    "menu = ['ice cream', 'chocolate', 'apple crisp', 'cookies']\n",
    "desert = input(\"Please input any food: \")\n",
    "\n",
    "while True:\n",
    "    for item in menu:\n",
    "        if item == desert:\n",
    "            print(\"Your desert will arrive in 10 minutes\")\n",
    "            bool = False\n",
    "            break\n",
    "    if bool == False:\n",
    "        break\n",
    "    print(\"Please choose another desert\")\n",
    "    desert = input(\"Please input any food: \")"
   ]
  },
  {
   "cell_type": "code",
   "execution_count": 28,
   "metadata": {},
   "outputs": [
    {
     "name": "stdout",
     "output_type": "stream",
     "text": [
      "Please input any food: as\n",
      "Please choose another desert\n",
      "Please input any food: ice cream\n",
      "Your desert will arrive in 10 minutes\n"
     ]
    }
   ],
   "source": [
    "menu = ['ice cream', 'chocolate', 'apple crisp', 'cookies']\n",
    "desert = input(\"Please input any food: \")\n",
    "\n",
    "while True:\n",
    "    if desert in menu:\n",
    "        print(\"Your desert will arrive in 10 minutes\")\n",
    "        break\n",
    "    else:\n",
    "        print(\"Please choose another desert\")\n",
    "        desert = input(\"Please input any food: \")"
   ]
  },
  {
   "cell_type": "markdown",
   "metadata": {},
   "source": [
    "## List comprehension"
   ]
  },
  {
   "cell_type": "markdown",
   "metadata": {},
   "source": [
    "Problem 6"
   ]
  },
  {
   "cell_type": "code",
   "execution_count": 4,
   "metadata": {},
   "outputs": [
    {
     "name": "stdout",
     "output_type": "stream",
     "text": [
      "6\n"
     ]
    }
   ],
   "source": [
    "list2 = list(range(15))\n",
    "print(len([i for i in list2 if i >= 5 and i <= 10]))"
   ]
  },
  {
   "cell_type": "markdown",
   "metadata": {},
   "source": [
    "Problem 7"
   ]
  },
  {
   "cell_type": "code",
   "execution_count": 24,
   "metadata": {},
   "outputs": [
    {
     "name": "stdout",
     "output_type": "stream",
     "text": [
      "[[10, 20, 40], [40, 50, 60], [70, 80, 90]]\n",
      "[[10, 20, 100], [40, 50, 100], [70, 80, 100]]\n"
     ]
    }
   ],
   "source": [
    "list4 = [[10, 20, 40], [40, 50, 60], [70, 80, 90]]\n",
    "print(list4)\n",
    "list5 = [i[0:len(i)-1] + [100] for i in list4]\n",
    "print(list5)"
   ]
  }
 ],
 "metadata": {
  "kernelspec": {
   "display_name": "Python 3",
   "language": "python",
   "name": "python3"
  },
  "language_info": {
   "codemirror_mode": {
    "name": "ipython",
    "version": 3
   },
   "file_extension": ".py",
   "mimetype": "text/x-python",
   "name": "python",
   "nbconvert_exporter": "python",
   "pygments_lexer": "ipython3",
   "version": "3.7.4"
  }
 },
 "nbformat": 4,
 "nbformat_minor": 2
}
