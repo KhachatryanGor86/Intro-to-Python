{
 "cells": [
  {
   "cell_type": "markdown",
   "metadata": {},
   "source": [
    "## Lists"
   ]
  },
  {
   "cell_type": "markdown",
   "metadata": {},
   "source": [
    "Problem 1"
   ]
  },
  {
   "cell_type": "code",
   "execution_count": null,
   "metadata": {},
   "outputs": [],
   "source": [
    "import sys\n",
    "\n",
    "list1 = [\"hello\", 1, True]\n",
    "print(list1)\n",
    "\n",
    "list1.extend(sys.argv[1:])\n",
    "print(list1)"
   ]
  },
  {
   "cell_type": "markdown",
   "metadata": {},
   "source": [
    "Problem 2"
   ]
  },
  {
   "cell_type": "code",
   "execution_count": null,
   "metadata": {},
   "outputs": [],
   "source": [
    "import sys\n",
    "\n",
    "list1 = [\"hello\", 1, True]\n",
    "print(list1)\n",
    "\n",
    "list2 = list1 + sys.argv[1:]\n",
    "print(list1)\n",
    "print(list2)"
   ]
  },
  {
   "cell_type": "markdown",
   "metadata": {},
   "source": [
    "Problem 3"
   ]
  },
  {
   "cell_type": "code",
   "execution_count": null,
   "metadata": {},
   "outputs": [],
   "source": [
    "import argparse\n",
    "\n",
    "parser = argparse.ArgumentParser()\n",
    "parser.add_argument(\"val\")\n",
    "\n",
    "list2 = ['a', 'b', 'c', 'a', 'c']\n",
    "\n",
    "args = parser.parse_args()\n",
    "q = list2.count(args.val)\n",
    "\n",
    "print(list2)\n",
    "print(\"Number of \" + args.val + \"-s = \" + str(q))"
   ]
  },
  {
   "cell_type": "markdown",
   "metadata": {},
   "source": [
    "Problem 4"
   ]
  },
  {
   "cell_type": "code",
   "execution_count": null,
   "metadata": {},
   "outputs": [],
   "source": [
    "import argparse\n",
    "\n",
    "parser = argparse.ArgumentParser()\n",
    "parser.add_argument(\"val\")\n",
    "\n",
    "list4 = ['a', 'b', 'c', 'a', 'c']\n",
    "\n",
    "args = parser.parse_args()\n",
    "print(list4)\n",
    "\n",
    "list4.remove(args.val)\n",
    "print(list4)"
   ]
  },
  {
   "cell_type": "markdown",
   "metadata": {},
   "source": [
    "Problem 5"
   ]
  },
  {
   "cell_type": "code",
   "execution_count": 3,
   "metadata": {},
   "outputs": [
    {
     "name": "stdout",
     "output_type": "stream",
     "text": [
      "[0, 1, 2, 3, 4, 5, 6, 7, 8, 9]\n",
      "[1, 2, 3, 6, 7, 8, 9]\n"
     ]
    }
   ],
   "source": [
    "list5 = list(range(10))\n",
    "\n",
    "print(list5)\n",
    "del list5[4:6]\n",
    "del list5[0]\n",
    "print(list5)"
   ]
  },
  {
   "cell_type": "markdown",
   "metadata": {},
   "source": [
    "Problem 6"
   ]
  },
  {
   "cell_type": "code",
   "execution_count": 4,
   "metadata": {},
   "outputs": [
    {
     "name": "stdout",
     "output_type": "stream",
     "text": [
      "[0, 1, 2, 3, 4, 5, 6, 7, 8, 9]\n",
      "[0, 1, 2, 3, 4, 5, 6, 7, 8, 9]\n",
      "[1, 2, 3, 6, 7, 8, 9]\n"
     ]
    }
   ],
   "source": [
    "list5 = list(range(10))\n",
    "\n",
    "print(list5)\n",
    "new_list = list5.copy()\n",
    "del new_list[4:6]\n",
    "del new_list[0]\n",
    "print(list5)\n",
    "print(new_list)"
   ]
  },
  {
   "cell_type": "markdown",
   "metadata": {},
   "source": [
    "Problem 7"
   ]
  },
  {
   "cell_type": "code",
   "execution_count": 11,
   "metadata": {},
   "outputs": [
    {
     "name": "stdout",
     "output_type": "stream",
     "text": [
      "[0, 1, 2, 3, 4]\n",
      "[0, 1, 2, 3, 5, 6, 7, 8, 9, 10]\n"
     ]
    }
   ],
   "source": [
    "l1 = list(range(5))\n",
    "l2 = list(range(5,11))\n",
    "\n",
    "print(l1)\n",
    "l1 = l1[0:len(l1)-1] + l2\n",
    "print(l1)"
   ]
  },
  {
   "cell_type": "markdown",
   "metadata": {},
   "source": [
    "## Sets"
   ]
  },
  {
   "cell_type": "markdown",
   "metadata": {},
   "source": [
    "Problem 8"
   ]
  },
  {
   "cell_type": "code",
   "execution_count": null,
   "metadata": {},
   "outputs": [],
   "source": [
    "import argparse\n",
    "\n",
    "parser = argparse.ArgumentParser()\n",
    "parser.add_argument(\"val\", type = int)\n",
    "\n",
    "set1 = {0,1,2,3,4,5}\n",
    "\n",
    "args = parser.parse_args()\n",
    "\n",
    "print(set1)\n",
    "set1.add(int(args.val))\n",
    "print(set1)"
   ]
  },
  {
   "cell_type": "markdown",
   "metadata": {},
   "source": [
    "Problem 9"
   ]
  },
  {
   "cell_type": "code",
   "execution_count": null,
   "metadata": {},
   "outputs": [],
   "source": [
    "import argparse\n",
    "\n",
    "parser = argparse.ArgumentParser()\n",
    "parser.add_argument(\"val\", type = int)\n",
    "\n",
    "set2 = {0,1,2,3,4,5,6,7,8,9}\n",
    "\n",
    "args = parser.parse_args()\n",
    "\n",
    "print(set2)\n",
    "set2.remove(args.val)\n",
    "print(set2)"
   ]
  },
  {
   "cell_type": "markdown",
   "metadata": {},
   "source": [
    "Problem 10"
   ]
  },
  {
   "cell_type": "code",
   "execution_count": null,
   "metadata": {},
   "outputs": [],
   "source": [
    "import argparse\n",
    "\n",
    "parser = argparse.ArgumentParser()\n",
    "parser.add_argument(\"val\", type = int)\n",
    "\n",
    "set2 = {0,1,2,3,4,5,6,7,8,9}\n",
    "\n",
    "args = parser.parse_args()\n",
    "\n",
    "print(set2)\n",
    "if args.val in set2:\n",
    "    set2.remove(args.val)\n",
    "print(set2)"
   ]
  },
  {
   "cell_type": "markdown",
   "metadata": {},
   "source": [
    "Problem 11"
   ]
  },
  {
   "cell_type": "code",
   "execution_count": 25,
   "metadata": {},
   "outputs": [
    {
     "name": "stdout",
     "output_type": "stream",
     "text": [
      "Union:  {0, 1, 2, 3, 4, 5, 6, 7, 8, 9, 20, 99, 50}\n",
      "Union:  {0, 1, 2, 3, 4, 5, 6, 7, 8, 9, 20, 99, 50}\n",
      "Intersection:  {1, 2, 4, 5, 6, 7, 8}\n",
      "Intersection:  {1, 2, 4, 5, 6, 7, 8}\n"
     ]
    }
   ],
   "source": [
    "set1 = set(list(range(10)))\n",
    "set2 = set([20,4,50,6,7,8,99,6,2,1,4,5])\n",
    "\n",
    "print(\"Union: \" , set1.union(set2))\n",
    "print(\"Union: \" , set1 | set2)\n",
    "\n",
    "print(\"Intersection: \" , set1.intersection(set2))\n",
    "print(\"Intersection: \" ,  set1 & set2)"
   ]
  },
  {
   "cell_type": "markdown",
   "metadata": {},
   "source": [
    "Problem 12"
   ]
  },
  {
   "cell_type": "code",
   "execution_count": null,
   "metadata": {},
   "outputs": [],
   "source": [
    "import argparse\n",
    "\n",
    "parser = argparse.ArgumentParser()\n",
    "parser.add_argument(\"val\", type = int)\n",
    "\n",
    "set3 = {0,1,2,3,4,5,6,7,8,9}\n",
    "min = min(set3)\n",
    "max = max(set3)\n",
    "args = parser.parse_args()\n",
    "\n",
    "if args.val >= min and args.val <= max:\n",
    "    print(True)\n",
    "else:\n",
    "    print(False)"
   ]
  },
  {
   "cell_type": "markdown",
   "metadata": {},
   "source": [
    "Problem 13"
   ]
  },
  {
   "cell_type": "code",
   "execution_count": 27,
   "metadata": {},
   "outputs": [
    {
     "name": "stdout",
     "output_type": "stream",
     "text": [
      "4 7\n"
     ]
    }
   ],
   "source": [
    "t1 = tuple(list(range(11)))\n",
    "\n",
    "print(t1[4], t1[-4])"
   ]
  },
  {
   "cell_type": "markdown",
   "metadata": {},
   "source": [
    "Problem 14"
   ]
  },
  {
   "cell_type": "code",
   "execution_count": 36,
   "metadata": {},
   "outputs": [
    {
     "name": "stdout",
     "output_type": "stream",
     "text": [
      "(0, 1, 2, 3, 'hello', 5, 6, 7, 8, 9, 10)\n"
     ]
    }
   ],
   "source": [
    "t1 = tuple(list(range(11)))\n",
    "t1_new = t1[0:4] + (\"hello\",) + t1[5:]\n",
    "print(t1_new)"
   ]
  },
  {
   "cell_type": "markdown",
   "metadata": {},
   "source": [
    "Problem 15"
   ]
  },
  {
   "cell_type": "code",
   "execution_count": null,
   "metadata": {},
   "outputs": [],
   "source": [
    "import argparse\n",
    "\n",
    "parser = argparse.ArgumentParser()\n",
    "parser.add_argument(\"key\", type = str)\n",
    "parser.add_argument(\"value\", type = str)\n",
    "\n",
    "args = parser.parse_args()\n",
    "\n",
    "dict1 = {'k1':'Gor', 'k2':'Hayk', 'k3':'Armen'}\n",
    "print(dict1)\n",
    "dict1[args.key] = args.value\n",
    "print(dict1)"
   ]
  },
  {
   "cell_type": "markdown",
   "metadata": {},
   "source": [
    "Problem 16"
   ]
  },
  {
   "cell_type": "code",
   "execution_count": 45,
   "metadata": {},
   "outputs": [
    {
     "name": "stdout",
     "output_type": "stream",
     "text": [
      "{1: 'a', 2: 'b', 3: 'c'}\n"
     ]
    }
   ],
   "source": [
    "l1 = [(1, 'a'), (2, 'b'), (3, 'c')]\n",
    "d = {}\n",
    "\n",
    "for i in range(len(l1)):\n",
    "    d[l1[i][0]] = l1[i][1]\n",
    "    \n",
    "print(d)"
   ]
  }
 ],
 "metadata": {
  "kernelspec": {
   "display_name": "Python 3",
   "language": "python",
   "name": "python3"
  },
  "language_info": {
   "codemirror_mode": {
    "name": "ipython",
    "version": 3
   },
   "file_extension": ".py",
   "mimetype": "text/x-python",
   "name": "python",
   "nbconvert_exporter": "python",
   "pygments_lexer": "ipython3",
   "version": "3.7.4"
  }
 },
 "nbformat": 4,
 "nbformat_minor": 2
}
