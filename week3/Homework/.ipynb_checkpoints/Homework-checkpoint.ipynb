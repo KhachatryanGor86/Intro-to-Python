{
 "cells": [
  {
   "cell_type": "markdown",
   "metadata": {},
   "source": [
    "## Lists"
   ]
  },
  {
   "cell_type": "code",
   "execution_count": 55,
   "metadata": {},
   "outputs": [
    {
     "name": "stdout",
     "output_type": "stream",
     "text": [
      "7 -2\n",
      "[7, 5]\n",
      "[5, 4, 1, 0]\n",
      "[8, 7, 1, 0, -1, -2]\n",
      "[4, 5, 7, 'Lemon', 'Broccoli', 'Carrot']\n"
     ]
    }
   ],
   "source": [
    "a = [1,4,5,7,8,-2,0,-1]\n",
    "print(a[3], a[5])\n",
    "\n",
    "a_sorted = sorted(a, reverse = True)\n",
    "print(a_sorted[1:3])\n",
    "print(a_sorted[2:6])\n",
    "\n",
    "del a_sorted[2:4]\n",
    "print(a_sorted)\n",
    "\n",
    "b = ['grapes', 'otatoes', 'tomatoes', 'Orange', 'Lemon', 'Broccoli', 'Carrot', 'Sausages']\n",
    "b_sorted = sorted(b)\n",
    "\n",
    "c = list()\n",
    "c += a[1:4] + b[4:7]\n",
    "print(c)"
   ]
  },
  {
   "cell_type": "markdown",
   "metadata": {},
   "source": [
    "## Sets"
   ]
  },
  {
   "cell_type": "code",
   "execution_count": 37,
   "metadata": {},
   "outputs": [
    {
     "name": "stdout",
     "output_type": "stream",
     "text": [
      "{False, True, 'Cookies', 8, 10, 'Oreo', 14, 'Jelly', 'Kit-kat', -5, -3, 'Milk', 'Chocolate'}\n",
      "{False, True, 'Cookies', 8, 10, 'Oreo', 14, 'Jelly', 'Kit-kat', -5, -3, 'Milk', 'Chocolate'}\n",
      "True\n",
      "{False, True, 'Cookies', 8, 10, 14, 'Jelly', 'Kit-kat', -5, -3, 'Milk', 'Chocolate'}\n"
     ]
    }
   ],
   "source": [
    "a1 = ['Cookies', 'Chocolate', 8, True, -3, -5,'Chocolate', 8, False, 8]\n",
    "b1 = [8, True, 10, 14, 'Chocolate', 'Milk', 'Jelly', True, False, True]\n",
    "\n",
    "set_a = set(a1)\n",
    "set_b = set(b1)\n",
    "\n",
    "union_ab = set_a | set_b\n",
    "intersection_ab = set_a & set_b\n",
    "\n",
    "union_ab.update([\"Kit-kat\", \"Oreo\"])\n",
    "print(union_ab)\n",
    "\n",
    "new_set = union_ab | intersection_ab\n",
    "\n",
    "print(new_set)\n",
    "print('Chocolate' in new_set)\n",
    "\n",
    "new_set.remove('Oreo')\n",
    "print(new_set)"
   ]
  },
  {
   "cell_type": "markdown",
   "metadata": {},
   "source": [
    "## Tuples"
   ]
  },
  {
   "cell_type": "code",
   "execution_count": 57,
   "metadata": {},
   "outputs": [
    {
     "name": "stdout",
     "output_type": "stream",
     "text": [
      "(1, 'a', -2, 'Anna')\n",
      "1\n",
      "3\n"
     ]
    }
   ],
   "source": [
    "t1 = (1, True, 'a', -2, 'Anna')\n",
    "t1_list = list(t1)\n",
    "del t1_list[1] #just considered as given otherwise will loop for boolean type\n",
    "t1 =tuple(t1_list)\n",
    "\n",
    "print(t1)\n",
    "\n",
    "t2 = (1,2,3,4,5)\n",
    "t3 = t1[0:2] + t2[0:3]\n",
    "print(t3[2])\n",
    "\n",
    "t4 = [(1,3,5), (8,9), ('Anna', 'Bob','Alice')]\n",
    "print(t4[0][1])"
   ]
  },
  {
   "cell_type": "markdown",
   "metadata": {},
   "source": [
    "## Dictionaries"
   ]
  },
  {
   "cell_type": "code",
   "execution_count": 54,
   "metadata": {},
   "outputs": [
    {
     "name": "stdout",
     "output_type": "stream",
     "text": [
      "{'dairy': ['yogurt', 'cheese'], 'fruits': ['banana', 'apple', 'orange', 'lemon', 'apple', 'banana', 'banana'], 'candies': ['mars', 'kinder', 'twix']}\n",
      "{'dairy': ['yogurt', 'cheese'], 'fruits': ['apple', 'banana', 'lemon', 'orange'], 'candies': ['mars', 'kinder', 'twix']}\n"
     ]
    }
   ],
   "source": [
    "market = {'dairy': ['yogurt', 'cheese'],'fruits': ['banana', 'apple', 'orange', 'lemon', 'apple', 'banana', 'banana']}\n",
    "market['candies'] = ['mars', 'kinder', 'twix']\n",
    "\n",
    "print(market)\n",
    "modif = sorted(set(market['fruits']))\n",
    "\n",
    "market['fruits'] = list(modif)\n",
    "print(market)"
   ]
  }
 ],
 "metadata": {
  "kernelspec": {
   "display_name": "Python 3",
   "language": "python",
   "name": "python3"
  },
  "language_info": {
   "codemirror_mode": {
    "name": "ipython",
    "version": 3
   },
   "file_extension": ".py",
   "mimetype": "text/x-python",
   "name": "python",
   "nbconvert_exporter": "python",
   "pygments_lexer": "ipython3",
   "version": "3.7.4"
  }
 },
 "nbformat": 4,
 "nbformat_minor": 2
}
